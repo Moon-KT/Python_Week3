{
  "nbformat": 4,
  "nbformat_minor": 0,
  "metadata": {
    "colab": {
      "provenance": [],
      "authorship_tag": "ABX9TyOqrzupq35PYg7kBChjl5fC",
      "include_colab_link": true
    },
    "kernelspec": {
      "name": "python3",
      "display_name": "Python 3"
    },
    "language_info": {
      "name": "python"
    }
  },
  "cells": [
    {
      "cell_type": "markdown",
      "metadata": {
        "id": "view-in-github",
        "colab_type": "text"
      },
      "source": [
        "<a href=\"https://colab.research.google.com/github/Moon-KT/Python_Week3/blob/main/Homework_3.ipynb\" target=\"_parent\"><img src=\"https://colab.research.google.com/assets/colab-badge.svg\" alt=\"Open In Colab\"/></a>"
      ]
    },
    {
      "cell_type": "markdown",
      "source": [
        "**Bài 1:**"
      ],
      "metadata": {
        "id": "6fiaHk05SKCd"
      }
    },
    {
      "cell_type": "code",
      "execution_count": null,
      "metadata": {
        "colab": {
          "base_uri": "https://localhost:8080/"
        },
        "id": "c7Td4qKrAymh",
        "outputId": "bda594a5-c7f3-422d-d55b-c9b3b12da96c"
      },
      "outputs": [
        {
          "output_type": "stream",
          "name": "stdout",
          "text": [
            "Bai 1\n",
            "Nhap A( xA, yA) = \n",
            "1\n",
            "2\n",
            "Nhap B(xA, yB) = \n",
            "3\n",
            "4\n",
            "Nhap C(xC, yC) = \n",
            "5\n",
            "6\n",
            "KHÔNG PHẢI TAM GIÁC\n"
          ]
        }
      ],
      "source": [
        "import math\n",
        "print(\"Nhap A( xA, yA) = \")\n",
        "xA = int(input())\n",
        "yA = int(input())\n",
        "\n",
        "print(\"Nhap B(xA, yB) = \")\n",
        "xB = int(input())\n",
        "yB = int(input())\n",
        "\n",
        "print(\"Nhap C(xC, yC) = \")\n",
        "xC = int(input())\n",
        "yC = int(input())\n",
        "\n",
        "AB = math.sqrt( (xA - xB)**2 + (yA - yB)**2)\n",
        "BC = math.sqrt( (xB - xC)**2 + (yB - yC)**2)\n",
        "AC = math.sqrt( (xC - xA)**2 + (yC - yA)**2)\n",
        "\n",
        "if AB + BC > AC and BC + AC > AB and AB + AC > BC :\n",
        "  print(\"TAM GIAC\")\n",
        "else:\n",
        "  print(\"KHÔNG PHẢI TAM GIÁC\")\n"
      ]
    },
    {
      "cell_type": "markdown",
      "source": [
        "**Bài 2:**"
      ],
      "metadata": {
        "id": "BPRN_bWnSUtj"
      }
    },
    {
      "cell_type": "code",
      "source": [
        "\n",
        "while True:\n",
        "  n = int(input(\"Enter the value of n: \"))\n",
        "  if 5 <= n <= 100:\n",
        "    break\n",
        "\n",
        "while True:\n",
        "  m = int(input(\"Enter the value of m: \"))\n",
        "  if m >= 3:\n",
        "    break\n",
        "\n",
        "while n > 0:\n",
        "    s = int(input())\n",
        "    k = 0\n",
        "    d = 0\n",
        "    count = 0\n",
        "    s1 = s\n",
        "    while s > 0:\n",
        "        s = s // 10\n",
        "        count += 1\n",
        "    d = count - m + 1\n",
        "    while s1 > 0 and count >= d:\n",
        "        k = k * 10 + (s1 % 10)\n",
        "        s1 = s1 // 10\n",
        "        count -= 1\n",
        "\n",
        "    print(s1 * (10 ** m) + k)\n",
        "    n -= 1\n"
      ],
      "metadata": {
        "colab": {
          "base_uri": "https://localhost:8080/"
        },
        "id": "0IlOlYrI79xM",
        "outputId": "67dcad31-9d07-426b-83f1-9a2b09d4e307"
      },
      "execution_count": null,
      "outputs": [
        {
          "output_type": "stream",
          "name": "stdout",
          "text": [
            "Enter the value of n: 5\n",
            "Enter the value of m: 5\n",
            "123456789\n",
            "123498765\n",
            "1234571\n",
            "1217543\n",
            "1268745\n",
            "1254786\n",
            "00053657\n",
            "75635\n",
            "45245454\n",
            "45245454\n"
          ]
        }
      ]
    },
    {
      "cell_type": "markdown",
      "source": [
        "**Bài 3:**"
      ],
      "metadata": {
        "id": "cVLmMo2ZXPFX"
      }
    },
    {
      "cell_type": "code",
      "source": [
        "k = int(input(\"Enter the number of students k:\"))\n",
        "for i in range(1, k + 1):\n",
        "    a, b, c = str(input()), int(input()), int(input())\n",
        "    d = b + c\n",
        "    if(d >= 190):\n",
        "        print(i, a, d, \"Xuất Sắc\", sep = \" \")\n",
        "    elif(d >= 150):\n",
        "        print(i, a, d, \"Giỏi\", sep = \" \")\n",
        "    elif(d >= 100):\n",
        "        print(i, a, d, \"Khá\", sep = \" \")\n",
        "    else:\n",
        "        print(i, a, d, \"Yếu\", sep = \" \")\n"
      ],
      "metadata": {
        "colab": {
          "base_uri": "https://localhost:8080/"
        },
        "id": "N4--94eVXOVR",
        "outputId": "0fa54c2e-f977-42a3-d727-5616dfcf53bb"
      },
      "execution_count": null,
      "outputs": [
        {
          "output_type": "stream",
          "name": "stdout",
          "text": [
            "Enter the number of students k:2\n",
            "Leader Tien\n",
            "100\n",
            "90\n",
            "1 Leader Tien 190 Xuất Sắc\n",
            "Support Dong\n",
            "90\n",
            "90\n",
            "2 Support Dong 180 Giỏi\n"
          ]
        }
      ]
    },
    {
      "cell_type": "markdown",
      "source": [
        "**Bài 4:**"
      ],
      "metadata": {
        "id": "R4F1a5ErbS_o"
      }
    },
    {
      "cell_type": "code",
      "source": [
        "\n",
        "x = int(input(\"Input money x: \"))\n",
        "\n",
        "sum = 0\n",
        "bl = False\n",
        "i = 1   # Gia tri dau tien la 1\n",
        "\n",
        "while sum <= x:\n",
        "    sum += i\n",
        "    i = i * 10 + 1\n",
        "    if sum == x:\n",
        "        bl = True\n",
        "        break\n",
        "\n",
        "if bl:\n",
        "    print(\"YES\")\n",
        "else:\n",
        "    print(\"NO\")"
      ],
      "metadata": {
        "colab": {
          "base_uri": "https://localhost:8080/"
        },
        "id": "fWW9QqGvbWe4",
        "outputId": "d0b3c1ad-baad-42a9-d38f-21357610f2fb"
      },
      "execution_count": null,
      "outputs": [
        {
          "output_type": "stream",
          "name": "stdout",
          "text": [
            "Input money x: 1\n",
            "YES\n"
          ]
        }
      ]
    }
  ]
}